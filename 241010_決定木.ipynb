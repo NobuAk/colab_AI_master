{
  "nbformat": 4,
  "nbformat_minor": 0,
  "metadata": {
    "colab": {
      "provenance": [],
      "authorship_tag": "ABX9TyMEN1rBawYD7QwKXrEvDYRe",
      "include_colab_link": true
    },
    "kernelspec": {
      "name": "python3",
      "display_name": "Python 3"
    },
    "language_info": {
      "name": "python"
    }
  },
  "cells": [
    {
      "cell_type": "markdown",
      "metadata": {
        "id": "view-in-github",
        "colab_type": "text"
      },
      "source": [
        "<a href=\"https://colab.research.google.com/github/NobuAk/colab_AI_master/blob/main/241010_%E6%B1%BA%E5%AE%9A%E6%9C%A8.ipynb\" target=\"_parent\"><img src=\"https://colab.research.google.com/assets/colab-badge.svg\" alt=\"Open In Colab\"/></a>"
      ]
    },
    {
      "cell_type": "code",
      "execution_count": 1,
      "metadata": {
        "colab": {
          "base_uri": "https://localhost:8080/"
        },
        "id": "ySQ_YJtElZ0S",
        "outputId": "e53be737-7f50-4823-dc42-5604ccf5e2b1"
      },
      "outputs": [
        {
          "output_type": "stream",
          "name": "stdout",
          "text": [
            "予測結果: [0 0 1 1 0 0 1 0 1 0]\n"
          ]
        }
      ],
      "source": [
        "import numpy as np\n",
        "import pandas as pd\n",
        "\n",
        "# ジニ不純度を計算\n",
        "def gini_impurity(y):\n",
        "    classes, counts = np.unique(y, return_counts=True)\n",
        "    prob = counts / len(y)\n",
        "    return 1 - np.sum(prob ** 2)\n",
        "\n",
        "# 情報利得を計算\n",
        "def information_gain(y, y_left, y_right):\n",
        "    p = len(y_left) / len(y)\n",
        "    return gini_impurity(y) - (p * gini_impurity(y_left) + (1 - p) * gini_impurity(y_right))\n",
        "\n",
        "# データを分割する関数\n",
        "def split_data(X, y, feature, threshold):\n",
        "    left_mask = X[:, feature] <= threshold\n",
        "    right_mask = X[:, feature] > threshold\n",
        "    return X[left_mask], X[right_mask], y[left_mask], y[right_mask]\n",
        "\n",
        "# 最良の分割を見つける関数\n",
        "def best_split(X, y):\n",
        "    best_gain = -1\n",
        "    best_feature = None\n",
        "    best_threshold = None\n",
        "\n",
        "    for feature in range(X.shape[1]):\n",
        "        thresholds = np.unique(X[:, feature])\n",
        "        for threshold in thresholds:\n",
        "            X_left, X_right, y_left, y_right = split_data(X, y, feature, threshold)\n",
        "            if len(y_left) == 0 or len(y_right) == 0:\n",
        "                continue\n",
        "            gain = information_gain(y, y_left, y_right)\n",
        "            if gain > best_gain:\n",
        "                best_gain = gain\n",
        "                best_feature = feature\n",
        "                best_threshold = threshold\n",
        "\n",
        "    return best_feature, best_threshold\n",
        "\n",
        "# 決定木のノード\n",
        "class DecisionTreeNode:\n",
        "    def __init__(self, feature=None, threshold=None, left=None, right=None, value=None):\n",
        "        self.feature = feature  # 分割に使う特徴量\n",
        "        self.threshold = threshold  # 分割のしきい値\n",
        "        self.left = left  # 左の子ノード\n",
        "        self.right = right  # 右の子ノード\n",
        "        self.value = value  # クラスの予測値（葉ノードの場合）\n",
        "\n",
        "# 決定木のクラス\n",
        "class DecisionTreeClassifier:\n",
        "    def __init__(self, max_depth=3):\n",
        "        self.max_depth = max_depth\n",
        "        self.root = None\n",
        "\n",
        "    def fit(self, X, y, depth=0):\n",
        "        # 全て同じクラスか、最大深さに達した場合、葉ノードを作る\n",
        "        if len(np.unique(y)) == 1 or depth == self.max_depth:\n",
        "            leaf_value = np.argmax(np.bincount(y))\n",
        "            return DecisionTreeNode(value=leaf_value)\n",
        "\n",
        "        # 最良の分割を見つける\n",
        "        feature, threshold = best_split(X, y)\n",
        "\n",
        "        if feature is None:\n",
        "            leaf_value = np.argmax(np.bincount(y))\n",
        "            return DecisionTreeNode(value=leaf_value)\n",
        "\n",
        "        # データを分割\n",
        "        X_left, X_right, y_left, y_right = split_data(X, y, feature, threshold)\n",
        "\n",
        "        # 左右の子ノードを再帰的に構築\n",
        "        left_node = self.fit(X_left, y_left, depth + 1)\n",
        "        right_node = self.fit(X_right, y_right, depth + 1)\n",
        "\n",
        "        # 現在のノードを返す\n",
        "        return DecisionTreeNode(feature=feature, threshold=threshold, left=left_node, right=right_node)\n",
        "\n",
        "    def predict_sample(self, node, x):\n",
        "        # 葉ノードなら予測値を返す\n",
        "        if node.value is not None:\n",
        "            return node.value\n",
        "\n",
        "        # 特徴量に基づいて左右の枝に進む\n",
        "        if x[node.feature] <= node.threshold:\n",
        "            return self.predict_sample(node.left, x)\n",
        "        else:\n",
        "            return self.predict_sample(node.right, x)\n",
        "\n",
        "    def predict(self, X):\n",
        "        return np.array([self.predict_sample(self.root, x) for x in X])\n",
        "\n",
        "# データセットの作成\n",
        "df = pd.DataFrame({\n",
        "    'Feature1': [2.77, 1.72, 3.67, 3.96, 2.23, 1.25, 3.27, 2.77, 3.47, 2.67],\n",
        "    'Feature2': [1.78, 1.16, 2.81, 2.61, 1.67, 1.21, 2.59, 2.39, 2.41, 1.79],\n",
        "    'Label':    [0, 0, 1, 1, 0, 0, 1, 0, 1, 0]\n",
        "})\n",
        "\n",
        "# 特徴量とラベルに分ける\n",
        "X = df[['Feature1', 'Feature2']].values\n",
        "y = df['Label'].values\n",
        "\n",
        "# 決定木のトレーニング\n",
        "tree = DecisionTreeClassifier(max_depth=3)\n",
        "tree.root = tree.fit(X, y)\n",
        "\n",
        "# 予測\n",
        "predictions = tree.predict(X)\n",
        "print(\"予測結果:\", predictions)"
      ]
    },
    {
      "cell_type": "code",
      "source": [],
      "metadata": {
        "id": "iXU7jzd0ldHw"
      },
      "execution_count": null,
      "outputs": []
    }
  ]
}